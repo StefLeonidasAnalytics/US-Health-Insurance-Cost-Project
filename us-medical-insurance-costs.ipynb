{
 "cells": [
  {
   "attachments": {},
   "cell_type": "markdown",
   "metadata": {},
   "source": [
    "# U.S. Medical Insurance Costs\n",
    "\n",
    "## Introduction\n",
    "\n",
    "What determines the amount of medical insurance charges, according to this data set, an individual has to pay?\n",
    "\n",
    "Are insurance charges stirctly based on \"obvious\" factors like, smoking or person's BMI. In this analysis we are giong to figure out just that!\n",
    "\n",
    "This data set contains data about medical insurance charges from 1338 individuals, along some details like age, sex, region, number of children and whether the person is smoking or not. It has been provided by CodeCademy as a case study for the Data Science Foundations Program."
   ]
  },
  {
   "attachments": {},
   "cell_type": "markdown",
   "metadata": {},
   "source": [
    "## Data Wrangling\n",
    "\n",
    "First, we will load in the data set and get a general overview about all the variables and structure of the data. Any duplicates, missing or inconsistent data?"
   ]
  },
  {
   "cell_type": "code",
   "execution_count": 2,
   "metadata": {},
   "outputs": [
    {
     "name": "stdout",
     "output_type": "stream",
     "text": [
      "      age     sex     bmi  children smoker     region      charges\n",
      "0      19  female  27.900         0    yes  southwest  16884.92400\n",
      "1      18    male  33.770         1     no  southeast   1725.55230\n",
      "2      28    male  33.000         3     no  southeast   4449.46200\n",
      "3      33    male  22.705         0     no  northwest  21984.47061\n",
      "4      32    male  28.880         0     no  northwest   3866.85520\n",
      "...   ...     ...     ...       ...    ...        ...          ...\n",
      "1333   50    male  30.970         3     no  northwest  10600.54830\n",
      "1334   18  female  31.920         0     no  northeast   2205.98080\n",
      "1335   18  female  36.850         0     no  southeast   1629.83350\n",
      "1336   21  female  25.800         0     no  southwest   2007.94500\n",
      "1337   61  female  29.070         0    yes  northwest  29141.36030\n",
      "\n",
      "[1338 rows x 7 columns]\n",
      "1338\n",
      "           count          mean           std        min         25%       50%  \\\n",
      "age       1338.0     39.207025     14.049960    18.0000    27.00000    39.000   \n",
      "bmi       1338.0     30.663397      6.098187    15.9600    26.29625    30.400   \n",
      "children  1338.0      1.094918      1.205493     0.0000     0.00000     1.000   \n",
      "charges   1338.0  13270.422265  12110.011237  1121.8739  4740.28715  9382.033   \n",
      "\n",
      "                   75%          max  \n",
      "age          51.000000     64.00000  \n",
      "bmi          34.693750     53.13000  \n",
      "children      2.000000      5.00000  \n",
      "charges   16639.912515  63770.42801  \n",
      "age           int64\n",
      "sex          object\n",
      "bmi         float64\n",
      "children      int64\n",
      "smoker       object\n",
      "region       object\n",
      "charges     float64\n",
      "dtype: object\n",
      "<class 'pandas.core.frame.DataFrame'>\n",
      "RangeIndex: 1338 entries, 0 to 1337\n",
      "Data columns (total 7 columns):\n",
      " #   Column    Non-Null Count  Dtype  \n",
      "---  ------    --------------  -----  \n",
      " 0   age       1338 non-null   int64  \n",
      " 1   sex       1338 non-null   object \n",
      " 2   bmi       1338 non-null   float64\n",
      " 3   children  1338 non-null   int64  \n",
      " 4   smoker    1338 non-null   object \n",
      " 5   region    1338 non-null   object \n",
      " 6   charges   1338 non-null   float64\n",
      "dtypes: float64(2), int64(2), object(3)\n",
      "memory usage: 73.3+ KB\n"
     ]
    },
    {
     "data": {
      "text/plain": [
       "1"
      ]
     },
     "execution_count": 2,
     "metadata": {},
     "output_type": "execute_result"
    }
   ],
   "source": [
    "import pandas as pd\n",
    "import warnings\n",
    "warnings.simplefilter(action='ignore', category=FutureWarning)\n",
    "import numpy as np\n",
    "import matplotlib.pyplot as plt\n",
    "import matplotlib.patches as patches\n",
    "from matplotlib import style\n",
    "%matplotlib inline\n",
    "import seaborn as sns\n",
    "import scipy.stats\n",
    "import pylab as pab\n",
    "from sklearn import linear_model\n",
    "from sklearn.preprocessing import PolynomialFeatures\n",
    "import statsmodels.api as sm\n",
    "from mpl_toolkits.mplot3d import Axes3D\n",
    "import plotly.express as px\n",
    "\n",
    "### Import dataset and visualize. ###\n",
    "\n",
    "df = pd.read_csv(r\"C:\\Users\\stefa\\Desktop\\Data Science Projects\\US Medical Insurance\\insurance.csv\")\n",
    "\n",
    "# General overview; missing, or inconsistent data?\n",
    "\n",
    "print(df.head(1338))\n",
    "\n",
    "sample_size = print(len(df))\n",
    "\n",
    "print(df.describe().T)\n",
    "\n",
    "print(df.dtypes)\n",
    "\n",
    "df.info()\n",
    "\n",
    "df.duplicated().sum()"
   ]
  },
  {
   "attachments": {},
   "cell_type": "markdown",
   "metadata": {},
   "source": [
    "Fortunately enough, the data set seems to be clean! No missing, duplicated or inconsistent data. Though, if we had duplicates, especially if there weren't many, deleting them would be unwise. Since there might be a small propability, that two different individuals have the same age, sex, number of children and even insurance charges."
   ]
  },
  {
   "attachments": {},
   "cell_type": "markdown",
   "metadata": {},
   "source": [
    "## Exploratory Data Analysis\n",
    "\n",
    "Let's get an insight into how many men and women are respresented in the data set and how many of them smoke."
   ]
  },
  {
   "cell_type": "code",
   "execution_count": 15,
   "metadata": {},
   "outputs": [
    {
     "name": "stdout",
     "output_type": "stream",
     "text": [
      "male      0.5052\n",
      "female    0.4948\n",
      "Name: sex, dtype: float64\n",
      "Men: 676\n",
      "Women: 662\n",
      "39.4\n"
     ]
    },
    {
     "data": {
      "image/png": "[encoded data removed]",
      "text/plain": [
       "<Figure size 640x480 with 1 Axes>"
      ]
     },
     "metadata": {},
     "output_type": "display_data"
    }
   ],
   "source": [
    "# Overview of the genders.\n",
    "\n",
    "gender = df.get(\"sex\").value_counts()\n",
    "gender_percentage = round(gender/sum(gender), 4)\n",
    "\n",
    "print(gender_percentage)\n",
    "# Calculating the amount of smokers for each gender.\n",
    "\n",
    "num_smokers = df.get(\"smoker\").value_counts()\n",
    "smoker_percentage = round(num_smokers/sum(num_smokers), 4)\n",
    "agg_smokers = (df.groupby(\"smoker\")[[\"sex\"]]).value_counts()\n",
    "\n",
    "smokers = df[[\"sex\", \"smoker\"]]\n",
    "male_smokers = smokers[smokers[\"sex\"] == \"male\"]\n",
    "female_smokers = smokers[smokers[\"sex\"] == \"female\"]\n",
    "\n",
    "print(\"Men: \" + str(male_smokers.value_counts().sum()))\n",
    "print(\"Women: \" + str(female_smokers.value_counts().sum()))\n",
    "\n",
    "# Visualize amount of smokers in a Bar-Chart\n",
    "\n",
    "sns.histplot(data = df, x = \"sex\", hue = \"smoker\", \n",
    "    shrink = 0.8, \n",
    "    palette = \"Set1\",\n",
    "    discrete = True,\n",
    "    multiple= \"dodge\"\n",
    ")\n",
    "\n",
    "# What is the mean age of all the smokers and non smokers; men and women?\n",
    "\n",
    "df_age_smoker = df[[\"age\", \"smoker\"]]\n",
    "age_smokers = df_age_smoker[df_age_smoker[\"smoker\"] == \"yes\"]\n",
    "age_non_smokers = df_age_smoker[df_age_smoker[\"smoker\"] == \"no\"]\n",
    "\n",
    "mean_age_smokers = round(np.mean(age_smokers.age), 1)\n",
    "mean_age_non_smokers = round(np.mean(age_non_smokers.age), 1)\n",
    "\n",
    "# Is there a significant difference in age between smokers an non smokers?\n",
    "\n",
    "mean_diff_age_smokers = round(abs(mean_age_non_smokers - mean_age_smokers), 1)\n",
    "print(mean_age_non_smokers)"
   ]
  },
  {
   "attachments": {},
   "cell_type": "markdown",
   "metadata": {},
   "source": [
    "Interesting, the amount of men and women are roughly the same. With 50.52% (676)being men and 49.48% (662) being women.\n",
    "\n",
    "Smokers are on average approximately 38.5 years old, where non smokers are 39.4 years old. Thus, non smokers are, on average around 11 months older! This difference isn't really significant, but nice to know!\n",
    "\n",
    "There are, though, more male smokers than female."
   ]
  },
  {
   "attachments": {},
   "cell_type": "markdown",
   "metadata": {},
   "source": [
    "### How is the sample size distributed across the regions?"
   ]
  },
  {
   "cell_type": "code",
   "execution_count": 172,
   "metadata": {},
   "outputs": [
    {
     "name": "stdout",
     "output_type": "stream",
     "text": [
      "southeast    364\n",
      "southwest    325\n",
      "northwest    325\n",
      "northeast    324\n",
      "Name: region, dtype: int64\n"
     ]
    },
    {
     "data": {
      "text/plain": [
       "<AxesSubplot:xlabel='region', ylabel='Count'>"
      ]
     },
     "execution_count": 172,
     "metadata": {},
     "output_type": "execute_result"
    },
    {
     "data": {
      "image/png": "[encoded data removed]",
      "text/plain": [
       "<Figure size 640x480 with 1 Axes>"
      ]
     },
     "metadata": {},
     "output_type": "display_data"
    }
   ],
   "source": [
    "## How is the population distributed across the regions?\n",
    "\n",
    "pop_distribution = df.region.value_counts()\n",
    "print(pop_distribution)\n",
    "\n",
    "plt.clf()\n",
    "sns.histplot(df.region, \n",
    "             shrink = 0.8\n",
    "            )"
   ]
  },
  {
   "attachments": {},
   "cell_type": "markdown",
   "metadata": {},
   "source": [
    "The distribution seems to be quite even. With only the \"southeastern\" region having a slightly higher population."
   ]
  },
  {
   "attachments": {},
   "cell_type": "markdown",
   "metadata": {},
   "source": [
    "### How is age distributed? How is age distributed across the regions we just inspected? "
   ]
  },
  {
   "cell_type": "code",
   "execution_count": 52,
   "metadata": {},
   "outputs": [
    {
     "name": "stdout",
     "output_type": "stream",
     "text": [
      "            age\n",
      "region         \n",
      "northeast  39.5\n",
      "northwest  39.0\n",
      "southeast  39.0\n",
      "southwest  39.0\n"
     ]
    },
    {
     "data": {
      "image/png": "[encoded data removed]",
      "text/plain": [
       "<Figure size 640x480 with 1 Axes>"
      ]
     },
     "metadata": {},
     "output_type": "display_data"
    },
    {
     "name": "stdout",
     "output_type": "stream",
     "text": [
      "16.59% of individuals are between 18 and 22 years old!\n"
     ]
    },
    {
     "data": {
      "image/png": "[encoded data removed]",
      "text/plain": [
       "<Figure size 640x480 with 1 Axes>"
      ]
     },
     "metadata": {},
     "output_type": "display_data"
    }
   ],
   "source": [
    "### How is age distributed across the regions? What is the age span of the individuals? ###\n",
    "\n",
    "max_age = df.age.max()\n",
    "min_age = df.age.min()\n",
    "mean_age = np.mean(df.age)\n",
    "age_span = max_age - min_age\n",
    "age_NE = df.groupby(\"region\")[[\"age\"]].median()\n",
    "\n",
    "print(age_NE)\n",
    "\n",
    "# Plot the age distribution\n",
    "\n",
    "plt.clf()\n",
    "sns.histplot(df.age, bins = 20)\n",
    "plt.show()\n",
    "\n",
    "plt.clf()\n",
    "sns.boxplot(df.region, df.age)\n",
    "\n",
    "# Count the indivuals with aged from 18 to 22 years. What is the proportion in relation to the dataset?\n",
    "\n",
    "ages_18_22 = []\n",
    "\n",
    "for age in df.age:\n",
    "    if age in range(18, 23):\n",
    "        ages_18_22.append(age)  \n",
    "        \n",
    "print(str(round(len(ages_18_22) / len(df) * 100, 2)) + \"% of individuals are between 18 and 22 years old!\")        "
   ]
  },
  {
   "attachments": {},
   "cell_type": "markdown",
   "metadata": {},
   "source": [
    "Age seems to be distributed quite evenly. But, there are more observations around 20 years old compared to older age-groups. Around 17% of individuals are from 18 to 22 years old.\n",
    "\n",
    "Age is distributed evenly. The mean age for the all the regions, ranges from 38 to 39 years. Though the median age for the northeastern region is marginably higher compared to the other regions at 39.5 years."
   ]
  },
  {
   "attachments": {},
   "cell_type": "markdown",
   "metadata": {},
   "source": [
    "### How is BMI distributed across the different regions? Any noteable differences?"
   ]
  },
  {
   "cell_type": "code",
   "execution_count": 71,
   "metadata": {},
   "outputs": [
    {
     "name": "stdout",
     "output_type": "stream",
     "text": [
      "bmi    30.596615\n",
      "dtype: float64\n"
     ]
    },
    {
     "data": {
      "text/plain": [
       "<AxesSubplot:xlabel='region', ylabel='bmi'>"
      ]
     },
     "execution_count": 71,
     "metadata": {},
     "output_type": "execute_result"
    },
    {
     "data": {
      "image/png": "[encoded data removed]",
      "text/plain": [
       "<Figure size 640x480 with 1 Axes>"
      ]
     },
     "metadata": {},
     "output_type": "display_data"
    }
   ],
   "source": [
    "### How is BMI distributed across the regions? Which region has the highest mean BMI? ###\n",
    "\n",
    "bmi_region = df[[\"region\", \"bmi\"]]\n",
    "\n",
    "sw = bmi_region[bmi_region[\"region\"] == \"southwest\"]\n",
    "se = bmi_region[bmi_region[\"region\"] == \"southeast\"]\n",
    "nw = bmi_region[bmi_region[\"region\"] == \"northwest\"]\n",
    "ne = bmi_region[bmi_region[\"region\"] == \"northeast\"]\n",
    "\n",
    "# Define a function for quick access to region-based BMI\n",
    "\n",
    "def get_mean_region_bmi(region):\n",
    "    \n",
    "    mean_region_bmi = np.mean(region)\n",
    "\n",
    "    return print(mean_region_bmi)\n",
    "\n",
    "\n",
    "get_mean_region_bmi(sw)\n",
    "\n",
    "# Boxplots illustrating BMI distribution across regions further\n",
    "\n",
    "plt.clf()\n",
    "sns.boxplot(df.region, df.bmi)"
   ]
  },
  {
   "attachments": {},
   "cell_type": "markdown",
   "metadata": {},
   "source": [
    "The southeastern region is a bit of an outlier, with an average and median BMI of approximately 33 and 34 respectively. The other regions' BMIs reange from around 29 to 30."
   ]
  },
  {
   "attachments": {},
   "cell_type": "markdown",
   "metadata": {},
   "source": [
    "### Taking a closer look at the relation between age and BMI."
   ]
  },
  {
   "cell_type": "code",
   "execution_count": 6,
   "metadata": {},
   "outputs": [
    {
     "data": {
      "text/plain": [
       "<Figure size 640x480 with 0 Axes>"
      ]
     },
     "metadata": {},
     "output_type": "display_data"
    },
    {
     "data": {
      "image/png": "[encoded data removed]",
      "text/plain": [
       "<Figure size 600x600 with 3 Axes>"
      ]
     },
     "metadata": {},
     "output_type": "display_data"
    },
    {
     "name": "stdout",
     "output_type": "stream",
     "text": [
      "53.13 15.96 30.663396860986538 30.4\n"
     ]
    },
    {
     "data": {
      "text/plain": [
       "<Figure size 640x480 with 0 Axes>"
      ]
     },
     "metadata": {},
     "output_type": "display_data"
    },
    {
     "data": {
      "image/png": "[encoded data removed]",
      "text/plain": [
       "<Figure size 500x500 with 1 Axes>"
      ]
     },
     "metadata": {},
     "output_type": "display_data"
    }
   ],
   "source": [
    "### How are age and BMI related; how are observations of BMI distributed across age? ###\n",
    "\n",
    "plt.clf()\n",
    "sns.jointplot(df.age, \n",
    "              df.bmi, \n",
    "              kind = \"hex\"\n",
    "              )\n",
    "plt.show()\n",
    "\n",
    "# Distribution of BMI\n",
    "plt.clf()\n",
    "distplot_bmi = sns.displot(df.bmi)\n",
    "distplot_bmi.set(xlabel = \"BMI\", ylabel = \"Number of Observations\")\n",
    "\n",
    "max_bmi = np.max(df.bmi)\n",
    "min_bmi = np.min(df.bmi)\n",
    "mean_bmi = np.mean(df.bmi)\n",
    "median_bmi = np.median(df.bmi)\n",
    "\n",
    "print(max_bmi, min_bmi, mean_bmi, median_bmi)  "
   ]
  },
  {
   "attachments": {},
   "cell_type": "markdown",
   "metadata": {},
   "source": [
    "We can see that BMI is normally distributed at around 30, where age clearly isn't, as we have discussed previously. The heatmap illustrates that there are alot of age-bmi combinations, where individuals are around 20 years old with a BMI of 27 to 34. This makes sense, since we have discovered that there are an unusual amount of observations with individuals aged from 18 to 22 years. \n",
    "\n",
    "Furthermore the maximum BMI recorded is at around 53 and the minimum at 16. Both the median and mean BMI are at around 30.5, close to the peak of the distribution.\n",
    "\n",
    "It is safe to say, that there isn't a particular group of age with a significantly different BMI."
   ]
  },
  {
   "attachments": {},
   "cell_type": "markdown",
   "metadata": {},
   "source": [
    "### General overview of the insurance charges"
   ]
  },
  {
   "cell_type": "code",
   "execution_count": 17,
   "metadata": {},
   "outputs": [
    {
     "data": {
      "text/plain": [
       "<Figure size 640x480 with 0 Axes>"
      ]
     },
     "metadata": {},
     "output_type": "display_data"
    },
    {
     "data": {
      "image/png": "[encoded data removed]",
      "text/plain": [
       "<Figure size 600x600 with 3 Axes>"
      ]
     },
     "metadata": {},
     "output_type": "display_data"
    },
    {
     "data": {
      "image/png": "[encoded data removed]",
      "text/plain": [
       "<Figure size 640x480 with 1 Axes>"
      ]
     },
     "metadata": {},
     "output_type": "display_data"
    },
    {
     "name": "stdout",
     "output_type": "stream",
     "text": [
      "     age     sex    bmi  children smoker     region      charges\n",
      "543   54  female  47.41         0    yes  southeast  63770.42801\n",
      "63770.42801\n"
     ]
    },
    {
     "data": {
      "image/png": "[encoded data removed]",
      "text/plain": [
       "<Figure size 640x480 with 1 Axes>"
      ]
     },
     "metadata": {},
     "output_type": "display_data"
    }
   ],
   "source": [
    "### Charges - general descriptive overview, distribution(s) across age, bmi, region and smokers ###\n",
    "\n",
    "# Plot distribution of charges \n",
    "plt.clf()\n",
    "plt.hist(df.charges, bins = 30)\n",
    "\n",
    "# Jointplot of age and charges\n",
    "plt.clf()\n",
    "sns.jointplot(df.age, df.charges)\n",
    "plt.show()\n",
    "\n",
    "# Difference in distribution of insurance charges conditional on smokers\n",
    "plt.clf()\n",
    "boxplot = sns.boxplot(df.smoker, df.charges)\n",
    "boxplot.set(xlabel = \"Smoker Yes/No\", ylabel = \"Insurance Charges\")\n",
    "plt.show()\n",
    "\n",
    "# Distribution of insurance charges across regions\n",
    "\n",
    "sns.boxplot(df.region, df.charges)\n",
    "\n",
    "# Mean, min and max values of recorded charges\n",
    "mean_charges = np.mean(df.charges)\n",
    "min_charges = df.charges.min()\n",
    "max_charges = df.charges.max()\n",
    "\n",
    "# The individuals with the min and max charges\n",
    "person_min_charges = df[df[\"charges\"] == min_charges]\n",
    "person_max_charges = df[df[\"charges\"] == max_charges]\n",
    "\n",
    "age_bmi_charges = df[[\"age\", \"bmi\", \"charges\"]]\n",
    "\n",
    "print(person_max_charges)\n",
    "print(max_charges)"
   ]
  },
  {
   "attachments": {},
   "cell_type": "markdown",
   "metadata": {},
   "source": [
    "The insurance charges are heavily skewed to the right, with a mean value of approximately $13270.42.\n",
    "\n",
    "Taking a look at the joint plot, there is a clear correlation between the age and the insurance charges payed by each individual. Also the correlation does not seem to be linear, since the insurance charges increase disproportinately with increasing age. This propably has to do with the fact that the older we get, on average, the more we visit the doctor in order to get medical conditions treated. If we take a look at the joint plot between age and charges, the observations are denser between insurance charges of around $2000 to approximately $14000. This is logical, because the most insurance charges recorded in this data set lie in between that intervall. (Note the skewed distribution of charges).\n",
    "\n",
    "Additonally, there seem to be different charges recorded for any given age. For example, there are individuals aged 40 years who pay $5000 to $7000 but also $18000 to $22000 and around $39000 as well. Meaning that there must be other factors determining insurance charges besides age.\n",
    "\n",
    "How about smoking? Smoking is a major health concearn and should drive insurance charges up. Is that the case? Mainly, yes, but there still alot of individuals who pay high amounts without smoking regardless. In this case the  BMI of a given individual could be a good estimator the insurance charges that individual has to pay. "
   ]
  },
  {
   "attachments": {},
   "cell_type": "markdown",
   "metadata": {},
   "source": [
    "### Closer look at the relationship between charges, age and BMI"
   ]
  },
  {
   "cell_type": "code",
   "execution_count": 176,
   "metadata": {},
   "outputs": [
    {
     "data": {
      "image/png": "[encoded data removed]",
      "text/plain": [
       "<Figure size 640x480 with 2 Axes>"
      ]
     },
     "metadata": {},
     "output_type": "display_data"
    }
   ],
   "source": [
    "### Correlation-Matrix - Correlations between given variables except \"smoker\" and \"region\" ###\n",
    "\n",
    "plt.clf()\n",
    "sns.heatmap(df.corr(\"pearson\"))\n",
    "plt.show()"
   ]
  },
  {
   "attachments": {},
   "cell_type": "markdown",
   "metadata": {},
   "source": [
    "We know that smoking has a major impact on insurance charges, thus we try to find other factors determining the amount of insurance charges an individual has to pay.\n",
    "\n",
    "For that matter we construct a correlation-matrix, cleanly depicting the relationsships between variables we are interested in.\n",
    "\n",
    "Now it becomes clear that, compared to the other variables, the correlation between insurance charges, age and BMI respectively is the strongest."
   ]
  },
  {
   "attachments": {},
   "cell_type": "markdown",
   "metadata": {},
   "source": [
    "### Linear Regression"
   ]
  },
  {
   "cell_type": "code",
   "execution_count": 20,
   "metadata": {},
   "outputs": [
    {
     "data": {
      "text/html": [
       "<table class=\"simpletable\">\n",
       "<caption>OLS Regression Results</caption>\n",
       "<tr>\n",
       "  <th>Dep. Variable:</th>         <td>charges</td>     <th>  R-squared:         </th> <td>   0.750</td> \n",
       "</tr>\n",
       "<tr>\n",
       "  <th>Model:</th>                   <td>OLS</td>       <th>  Adj. R-squared:    </th> <td>   0.749</td> \n",
       "</tr>\n",
       "<tr>\n",
       "  <th>Method:</th>             <td>Least Squares</td>  <th>  F-statistic:       </th> <td>   798.0</td> \n",
       "</tr>\n",
       "<tr>\n",
       "  <th>Date:</th>             <td>Mon, 20 Feb 2023</td> <th>  Prob (F-statistic):</th>  <td>  0.00</td>  \n",
       "</tr>\n",
       "<tr>\n",
       "  <th>Time:</th>                 <td>13:28:03</td>     <th>  Log-Likelihood:    </th> <td> -13551.</td> \n",
       "</tr>\n",
       "<tr>\n",
       "  <th>No. Observations:</th>      <td>  1338</td>      <th>  AIC:               </th> <td>2.711e+04</td>\n",
       "</tr>\n",
       "<tr>\n",
       "  <th>Df Residuals:</th>          <td>  1332</td>      <th>  BIC:               </th> <td>2.715e+04</td>\n",
       "</tr>\n",
       "<tr>\n",
       "  <th>Df Model:</th>              <td>     5</td>      <th>                     </th>     <td> </td>    \n",
       "</tr>\n",
       "<tr>\n",
       "  <th>Covariance Type:</th>      <td>nonrobust</td>    <th>                     </th>     <td> </td>    \n",
       "</tr>\n",
       "</table>\n",
       "<table class=\"simpletable\">\n",
       "<tr>\n",
       "       <td></td>         <th>coef</th>     <th>std err</th>      <th>t</th>      <th>P>|t|</th>  <th>[0.025</th>    <th>0.975]</th>  \n",
       "</tr>\n",
       "<tr>\n",
       "  <th>Intercept</th>  <td>-1.205e+04</td> <td>  951.260</td> <td>  -12.670</td> <td> 0.000</td> <td>-1.39e+04</td> <td>-1.02e+04</td>\n",
       "</tr>\n",
       "<tr>\n",
       "  <th>age</th>        <td>  257.7350</td> <td>   11.904</td> <td>   21.651</td> <td> 0.000</td> <td>  234.383</td> <td>  281.087</td>\n",
       "</tr>\n",
       "<tr>\n",
       "  <th>sex_male</th>   <td> -128.6399</td> <td>  333.361</td> <td>   -0.386</td> <td> 0.700</td> <td> -782.609</td> <td>  525.329</td>\n",
       "</tr>\n",
       "<tr>\n",
       "  <th>bmi</th>        <td>  322.3642</td> <td>   27.419</td> <td>   11.757</td> <td> 0.000</td> <td>  268.576</td> <td>  376.153</td>\n",
       "</tr>\n",
       "<tr>\n",
       "  <th>smoker_yes</th> <td> 2.382e+04</td> <td>  412.523</td> <td>   57.750</td> <td> 0.000</td> <td>  2.3e+04</td> <td> 2.46e+04</td>\n",
       "</tr>\n",
       "<tr>\n",
       "  <th>children</th>   <td>  474.4111</td> <td>  137.856</td> <td>    3.441</td> <td> 0.001</td> <td>  203.973</td> <td>  744.849</td>\n",
       "</tr>\n",
       "</table>\n",
       "<table class=\"simpletable\">\n",
       "<tr>\n",
       "  <th>Omnibus:</th>       <td>301.103</td> <th>  Durbin-Watson:     </th> <td>   2.087</td> \n",
       "</tr>\n",
       "<tr>\n",
       "  <th>Prob(Omnibus):</th> <td> 0.000</td>  <th>  Jarque-Bera (JB):  </th> <td> 720.380</td> \n",
       "</tr>\n",
       "<tr>\n",
       "  <th>Skew:</th>          <td> 1.214</td>  <th>  Prob(JB):          </th> <td>3.73e-157</td>\n",
       "</tr>\n",
       "<tr>\n",
       "  <th>Kurtosis:</th>      <td> 5.650</td>  <th>  Cond. No.          </th> <td>    295.</td> \n",
       "</tr>\n",
       "</table><br/><br/>Notes:<br/>[1] Standard Errors assume that the covariance matrix of the errors is correctly specified."
      ],
      "text/plain": [
       "<class 'statsmodels.iolib.summary.Summary'>\n",
       "\"\"\"\n",
       "                            OLS Regression Results                            \n",
       "==============================================================================\n",
       "Dep. Variable:                charges   R-squared:                       0.750\n",
       "Model:                            OLS   Adj. R-squared:                  0.749\n",
       "Method:                 Least Squares   F-statistic:                     798.0\n",
       "Date:                Mon, 20 Feb 2023   Prob (F-statistic):               0.00\n",
       "Time:                        13:28:03   Log-Likelihood:                -13551.\n",
       "No. Observations:                1338   AIC:                         2.711e+04\n",
       "Df Residuals:                    1332   BIC:                         2.715e+04\n",
       "Df Model:                           5                                         \n",
       "Covariance Type:            nonrobust                                         \n",
       "==============================================================================\n",
       "                 coef    std err          t      P>|t|      [0.025      0.975]\n",
       "------------------------------------------------------------------------------\n",
       "Intercept  -1.205e+04    951.260    -12.670      0.000   -1.39e+04   -1.02e+04\n",
       "age          257.7350     11.904     21.651      0.000     234.383     281.087\n",
       "sex_male    -128.6399    333.361     -0.386      0.700    -782.609     525.329\n",
       "bmi          322.3642     27.419     11.757      0.000     268.576     376.153\n",
       "smoker_yes  2.382e+04    412.523     57.750      0.000     2.3e+04    2.46e+04\n",
       "children     474.4111    137.856      3.441      0.001     203.973     744.849\n",
       "==============================================================================\n",
       "Omnibus:                      301.103   Durbin-Watson:                   2.087\n",
       "Prob(Omnibus):                  0.000   Jarque-Bera (JB):              720.380\n",
       "Skew:                           1.214   Prob(JB):                    3.73e-157\n",
       "Kurtosis:                       5.650   Cond. No.                         295.\n",
       "==============================================================================\n",
       "\n",
       "Notes:\n",
       "[1] Standard Errors assume that the covariance matrix of the errors is correctly specified.\n",
       "\"\"\""
      ]
     },
     "execution_count": 20,
     "metadata": {},
     "output_type": "execute_result"
    }
   ],
   "source": [
    "### Run a (linear) regression with the dependend variable being \"charges\" ###\n",
    "\n",
    "# Preparing DataFrame for regression; converting strings to actual dummies (0, 1) and dropping the column \"region\".\n",
    "\n",
    "reg_df = df.drop(columns = [\"region\"]) \n",
    "reg_df = pd.get_dummies(reg_df, columns = [\"sex\", \"smoker\"], drop_first = True)\n",
    "\n",
    "# Regress charges on X ε {age, sex, bmi, smoker, children}\n",
    "\n",
    "pred_charges = sm.OLS.from_formula(\"charges ~ age + sex_male + bmi + smoker_yes + children\", reg_df).fit()\n",
    "params = pred_charges.params\n",
    "pred_charges.summary()"
   ]
  },
  {
   "attachments": {},
   "cell_type": "markdown",
   "metadata": {},
   "source": [
    "After running the regression on insurance charges with all variables except region, we yield some intersting results. First off, we are dropping the \"region\" variable since the distribution of insurance charges across regions is even. Meaning there is no region where extremely high or low insurance charges are to be expected.\n",
    "\n",
    "Our main variables of focus in this regression are age, BMI, whether the person is smoking and interestigly the number of children. The gender (\"sex_male\") does not seem to be statistically significant with a high p-value of 0.7 and a low t-statistic of 0.386. This means that the impact of the gender on insurance charges is **not** significantly different from 0. When we ommit the gender dummy from our regression, the R-squared does not drop and stays at 0.750! \n",
    "\n",
    "It is safe to say though that the other variables included in the regression have a high explanatory value for the expected insurance charges. The age, BMI and our dummy for smokers yield a very high and robust t-statistic and extremely low p-values converging towards 0.\n",
    "\n",
    "Our model, whether we include the gender or not, explains the variation in insurance charges fairly well with an R-squared of 0.750. This means that around 75% of the variation in observed insurance charges is described by the age, BMI, smoking and number of children."
   ]
  },
  {
   "attachments": {},
   "cell_type": "markdown",
   "metadata": {},
   "source": [
    "### Joint significance of BMI and smoking - Two factors which should have an effect on the insurance charges."
   ]
  },
  {
   "cell_type": "code",
   "execution_count": 107,
   "metadata": {},
   "outputs": [
    {
     "data": {
      "text/html": [
       "<table class=\"simpletable\">\n",
       "<caption>OLS Regression Results</caption>\n",
       "<tr>\n",
       "  <th>Dep. Variable:</th>         <td>charges</td>     <th>  R-squared:         </th> <td>   0.816</td> \n",
       "</tr>\n",
       "<tr>\n",
       "  <th>Model:</th>                   <td>OLS</td>       <th>  Adj. R-squared:    </th> <td>   0.815</td> \n",
       "</tr>\n",
       "<tr>\n",
       "  <th>Method:</th>             <td>Least Squares</td>  <th>  F-statistic:       </th> <td>   1476.</td> \n",
       "</tr>\n",
       "<tr>\n",
       "  <th>Date:</th>             <td>Sat, 18 Feb 2023</td> <th>  Prob (F-statistic):</th>  <td>  0.00</td>  \n",
       "</tr>\n",
       "<tr>\n",
       "  <th>Time:</th>                 <td>16:48:13</td>     <th>  Log-Likelihood:    </th> <td> -13346.</td> \n",
       "</tr>\n",
       "<tr>\n",
       "  <th>No. Observations:</th>      <td>  1338</td>      <th>  AIC:               </th> <td>2.670e+04</td>\n",
       "</tr>\n",
       "<tr>\n",
       "  <th>Df Residuals:</th>          <td>  1333</td>      <th>  BIC:               </th> <td>2.673e+04</td>\n",
       "</tr>\n",
       "<tr>\n",
       "  <th>Df Model:</th>              <td>     4</td>      <th>                     </th>     <td> </td>    \n",
       "</tr>\n",
       "<tr>\n",
       "  <th>Covariance Type:</th>      <td>nonrobust</td>    <th>                     </th>     <td> </td>    \n",
       "</tr>\n",
       "</table>\n",
       "<table class=\"simpletable\">\n",
       "<tr>\n",
       "         <td></td>           <th>coef</th>     <th>std err</th>      <th>t</th>      <th>P>|t|</th>  <th>[0.025</th>    <th>0.975]</th>  \n",
       "</tr>\n",
       "<tr>\n",
       "  <th>Intercept</th>      <td>-2769.0557</td> <td>  466.182</td> <td>   -5.940</td> <td> 0.000</td> <td>-3683.586</td> <td>-1854.526</td>\n",
       "</tr>\n",
       "<tr>\n",
       "  <th>age</th>            <td>  269.1680</td> <td>   10.145</td> <td>   26.532</td> <td> 0.000</td> <td>  249.266</td> <td>  289.070</td>\n",
       "</tr>\n",
       "<tr>\n",
       "  <th>sex_male</th>       <td> -313.4391</td> <td>  285.853</td> <td>   -1.097</td> <td> 0.273</td> <td> -874.209</td> <td>  247.331</td>\n",
       "</tr>\n",
       "<tr>\n",
       "  <th>children</th>       <td>  498.6244</td> <td>  118.216</td> <td>    4.218</td> <td> 0.000</td> <td>  266.714</td> <td>  730.534</td>\n",
       "</tr>\n",
       "<tr>\n",
       "  <th>bmi:smoker_yes</th> <td>  810.7729</td> <td>   11.237</td> <td>   72.155</td> <td> 0.000</td> <td>  788.729</td> <td>  832.816</td>\n",
       "</tr>\n",
       "</table>\n",
       "<table class=\"simpletable\">\n",
       "<tr>\n",
       "  <th>Omnibus:</th>       <td>549.953</td> <th>  Durbin-Watson:     </th> <td>   2.089</td>\n",
       "</tr>\n",
       "<tr>\n",
       "  <th>Prob(Omnibus):</th> <td> 0.000</td>  <th>  Jarque-Bera (JB):  </th> <td>2488.281</td>\n",
       "</tr>\n",
       "<tr>\n",
       "  <th>Skew:</th>          <td> 1.929</td>  <th>  Prob(JB):          </th> <td>    0.00</td>\n",
       "</tr>\n",
       "<tr>\n",
       "  <th>Kurtosis:</th>      <td> 8.455</td>  <th>  Cond. No.          </th> <td>    142.</td>\n",
       "</tr>\n",
       "</table><br/><br/>Notes:<br/>[1] Standard Errors assume that the covariance matrix of the errors is correctly specified."
      ],
      "text/plain": [
       "<class 'statsmodels.iolib.summary.Summary'>\n",
       "\"\"\"\n",
       "                            OLS Regression Results                            \n",
       "==============================================================================\n",
       "Dep. Variable:                charges   R-squared:                       0.816\n",
       "Model:                            OLS   Adj. R-squared:                  0.815\n",
       "Method:                 Least Squares   F-statistic:                     1476.\n",
       "Date:                Sat, 18 Feb 2023   Prob (F-statistic):               0.00\n",
       "Time:                        16:48:13   Log-Likelihood:                -13346.\n",
       "No. Observations:                1338   AIC:                         2.670e+04\n",
       "Df Residuals:                    1333   BIC:                         2.673e+04\n",
       "Df Model:                           4                                         \n",
       "Covariance Type:            nonrobust                                         \n",
       "==================================================================================\n",
       "                     coef    std err          t      P>|t|      [0.025      0.975]\n",
       "----------------------------------------------------------------------------------\n",
       "Intercept      -2769.0557    466.182     -5.940      0.000   -3683.586   -1854.526\n",
       "age              269.1680     10.145     26.532      0.000     249.266     289.070\n",
       "sex_male        -313.4391    285.853     -1.097      0.273    -874.209     247.331\n",
       "children         498.6244    118.216      4.218      0.000     266.714     730.534\n",
       "bmi:smoker_yes   810.7729     11.237     72.155      0.000     788.729     832.816\n",
       "==============================================================================\n",
       "Omnibus:                      549.953   Durbin-Watson:                   2.089\n",
       "Prob(Omnibus):                  0.000   Jarque-Bera (JB):             2488.281\n",
       "Skew:                           1.929   Prob(JB):                         0.00\n",
       "Kurtosis:                       8.455   Cond. No.                         142.\n",
       "==============================================================================\n",
       "\n",
       "Notes:\n",
       "[1] Standard Errors assume that the covariance matrix of the errors is correctly specified.\n",
       "\"\"\""
      ]
     },
     "execution_count": 107,
     "metadata": {},
     "output_type": "execute_result"
    }
   ],
   "source": [
    "### Regress charges on X ε {age, sex, bmi * smoker, children} ###\n",
    "\n",
    "# Generate interaction-term between \"bmi\" and \"smoker_yes\" and run regression on given variables\n",
    "\n",
    "charges_pred_interact = sm.OLS.from_formula('charges ~ age + sex_male + children + bmi:smoker_yes', reg_df).fit()\n",
    "charges_pred_interact.summary()"
   ]
  },
  {
   "attachments": {},
   "cell_type": "markdown",
   "metadata": {},
   "source": [
    "Here, we constructed an interaction-term between the persons BMI and if he or she is smoking or not.\n",
    "\n",
    "The interaction-term yields an extremely high t-statistic of 72 and, once again, a p-value close to zero. This confirms what we have expected earlier.\n",
    "\n",
    "The individual's age is still highly significant with an increased t-statistic of roughly 26.5, additionally the significance of the number of children has risen slightly. The p-value has decreased further and the t-statistic has increased to 4.218, compare to 3.441 in the previous regression.\n",
    "\n",
    "The significance of the genders coefficient has changed slightly as well. But still, with a given p-value of 0.273 and a low t-statistic of approximately 1.1, the propability that the coefficient is statistically different from zero is rejected on most levels of significance.\n",
    "\n",
    "The R-squared has increased further to 0.816 from 0.750 in the previous regression."
   ]
  },
  {
   "attachments": {},
   "cell_type": "markdown",
   "metadata": {},
   "source": [
    "### Predicting insurance charges for a given individual"
   ]
  },
  {
   "cell_type": "code",
   "execution_count": 22,
   "metadata": {},
   "outputs": [
    {
     "name": "stdout",
     "output_type": "stream",
     "text": [
      "{'intercept': -12052.4619856647, 'age': 257.73498766924524, 'sex_male': -128.63985356969772, 'bmi': 322.3642144860735, 'smoker_yes': 23823.392530652607, 'children': 474.41112061268547}\n",
      "Estimated insurance charges for given individual are: $18526.21\n"
     ]
    }
   ],
   "source": [
    "### Predict the expected insurance charges for a given individual ###\n",
    "\n",
    "# Create a dictionary with all variables and corresponding coefficients estimated in the previous regression\n",
    "\n",
    "coef_labeled = {\"intercept\": params[0], \n",
    "                \"age\": params[1], \n",
    "                \"sex_male\": params[2], \n",
    "                \"bmi\": params[3], \n",
    "                \"smoker_yes\": params[4], \n",
    "                \"children\": params[5]\n",
    "                }\n",
    "\n",
    "print(coef_labeled)\n",
    "\n",
    "# Define a function estimating the annual insurance costs for a given individual\n",
    "\n",
    "def pred_insurance(age, sex_male, bmi, smoker_yes, children):\n",
    "\n",
    "    # Define the domain for our dummies, sex_male and smoker_yes\n",
    "\n",
    "    domain_dummy = (0, 1)\n",
    "\n",
    "    # Check if the given arguments are part of the domain; if so, run the regression\n",
    "\n",
    "    if (sex_male in domain_dummy) and (smoker_yes in domain_dummy):\n",
    "\n",
    "        expected_charges = coef_labeled.get(\"intercept\") + \\\n",
    "                           coef_labeled.get(\"age\") * age + \\\n",
    "                           coef_labeled.get(\"sex_male\") * sex_male + \\\n",
    "                           coef_labeled.get(\"bmi\") * bmi + \\\n",
    "                           coef_labeled.get(\"smoker_yes\") * smoker_yes + \\\n",
    "                           coef_labeled.get(\"children\") * children\n",
    "        \n",
    "        return print(\"Estimated insurance charges for given individual are: $\" + str(round(expected_charges, 2)))\n",
    "    \n",
    "    else:\n",
    "\n",
    "        raise ValueError(\"Given values for dummy variables not in domain!\")\n",
    "\n",
    "pred_insurance(60, 0, 41, 0, 4)          "
   ]
  },
  {
   "attachments": {},
   "cell_type": "markdown",
   "metadata": {},
   "source": [
    "In this cell we defined a function for predicting the expected insurance costs for a random individual with the variables and corresponding coefficients from our first regression.\n",
    "\n",
    "For example, for a woman, 60 years old who does not smoke and has 4 children the expected insurance charges to be payed by her annualy are $18526.21. If she was smoking, the would be paying $42349.61 instead!"
   ]
  },
  {
   "attachments": {},
   "cell_type": "markdown",
   "metadata": {},
   "source": [
    "### Distinguishing insurance charges between smokers and non smokers"
   ]
  },
  {
   "cell_type": "code",
   "execution_count": 24,
   "metadata": {},
   "outputs": [
    {
     "data": {
      "image/png": "[encoded data removed]",
      "text/plain": [
       "<Figure size 640x480 with 1 Axes>"
      ]
     },
     "metadata": {},
     "output_type": "display_data"
    }
   ],
   "source": [
    "### Scatterplot of charges and bmi * smoker ###\n",
    "\n",
    "plt.clf()\n",
    "sns.scatterplot(reg_df.bmi * reg_df.smoker_yes, reg_df.charges)\n",
    "plt.show()"
   ]
  },
  {
   "attachments": {},
   "cell_type": "markdown",
   "metadata": {},
   "source": [
    "In this case it becomes clear that there is an correlation between BMI and insurance charges while seperating smokers from non smokers. As we have learned before, non smokers, on average, pay considerably lower insurance charges than smokers. The scatterplot though suggests otherwise, there alot of observations of non smokers who pay high insurance charges. \n",
    "\n",
    "Also, when we inspect the correlation between BMI conditional on smokers with insurance charges, we once again see that the variance changes with increasing BMI of people who smoke."
   ]
  },
  {
   "attachments": {},
   "cell_type": "markdown",
   "metadata": {},
   "source": [
    "### Visualizing insurance charges greater than $20000 of individuals who do **not** smoke"
   ]
  },
  {
   "cell_type": "code",
   "execution_count": 27,
   "metadata": {},
   "outputs": [
    {
     "name": "stdout",
     "output_type": "stream",
     "text": [
      "39.20702541106129\n",
      "30.714098360655726\n",
      "age              64.00000\n",
      "bmi              41.91000\n",
      "children          4.00000\n",
      "charges       36910.60803\n",
      "sex_male          1.00000\n",
      "smoker_yes        0.00000\n",
      "dtype: float64\n"
     ]
    },
    {
     "data": {
      "image/png": "[encoded data removed]",
      "text/plain": [
       "<Figure size 640x480 with 1 Axes>"
      ]
     },
     "metadata": {},
     "output_type": "display_data"
    },
    {
     "data": {
      "text/plain": [
       "<AxesSubplot:>"
      ]
     },
     "execution_count": 27,
     "metadata": {},
     "output_type": "execute_result"
    },
    {
     "data": {
      "image/png": "[encoded data removed]",
      "text/plain": [
       "<Figure size 640x480 with 2 Axes>"
      ]
     },
     "metadata": {},
     "output_type": "display_data"
    }
   ],
   "source": [
    "### Alot of non smoking individuals seem pay high insurance charges regardless, why? ###\n",
    "\n",
    "# Create DataFrame with all non smoking individuals and charges above $20000\n",
    "non_smokers_charges = reg_df[reg_df.smoker_yes == 0]\n",
    "charges_greater_20000 = reg_df[reg_df.charges >= 20000]\n",
    "\n",
    "df_charges = non_smokers_charges.merge(charges_greater_20000, how = \"left\")\n",
    "\n",
    "highest_charges = df_charges[df_charges.charges >= 20000]\n",
    "\n",
    "# Mean age across highest_charges\n",
    "mean_age_among_highest_charges = np.mean(highest_charges.age)\n",
    "mean_age_df = np.mean(df.age)\n",
    "print(mean_age_df)\n",
    "\n",
    "# Mean BMI across highest charges\n",
    "mean_bmi_highest_charges = np.mean(highest_charges.bmi)\n",
    "print(mean_bmi_highest_charges)\n",
    "\n",
    "# The non smoking person with the highest charges recorded - let's call him \"Peter\"\n",
    "Peter = highest_charges.max()\n",
    "print(Peter)\n",
    "\n",
    "# Correlation between charges and number of children\n",
    "plt.clf()\n",
    "sns.boxplot(highest_charges.children, highest_charges.charges)\n",
    "\n",
    "# Correlation between charges and age\n",
    "plt.clf()\n",
    "sns.scatterplot(highest_charges.age, highest_charges.charges)\n",
    "plt.show()\n",
    "\n",
    "# Correlation-Matrix\n",
    "sns.heatmap(highest_charges.drop(columns = [\"smoker_yes\"]).corr(\"pearson\"))\n"
   ]
  },
  {
   "attachments": {},
   "cell_type": "markdown",
   "metadata": {},
   "source": [
    "Let us take a closer look at the people who pay high amounts of insurance who do no smoke. Peter, for example, is 64 years old has an BMI of 41, doesn't smoke and has four children; he pays roughly $36910 in insurance every year. Why?\n",
    "\n",
    "When we plot the various combinations of insurance charges and age, we see that there is in fact positve trend, as we have discovered for rest of the data set previously. We saw that the variance in insurance charges with increasing age remained constant, though in this case the variance seems to increase when the age increases. This means that we are dealing with heteroskedasticity.\n",
    "\n",
    "Once again constructing the correlation-matrix, it seems like the correlation between charges and age has become stronger compared to the previous case. Furthermore, the number of children now appears to be more relevant with a correlation-coefficient of ~0.3. Interestingly enough, the effect of BMI on charges has dropped to a lower correlation-coefficient; something I certainly did not expect."
   ]
  },
  {
   "attachments": {},
   "cell_type": "markdown",
   "metadata": {},
   "source": [
    "### Fitting a regression model to the subset of observations with the highest amount of insurance charges who do not smoke"
   ]
  },
  {
   "cell_type": "code",
   "execution_count": 29,
   "metadata": {},
   "outputs": [
    {
     "data": {
      "text/html": [
       "<table class=\"simpletable\">\n",
       "<caption>OLS Regression Results</caption>\n",
       "<tr>\n",
       "  <th>Dep. Variable:</th>         <td>charges</td>     <th>  R-squared:         </th> <td>   0.343</td>\n",
       "</tr>\n",
       "<tr>\n",
       "  <th>Model:</th>                   <td>OLS</td>       <th>  Adj. R-squared:    </th> <td>   0.296</td>\n",
       "</tr>\n",
       "<tr>\n",
       "  <th>Method:</th>             <td>Least Squares</td>  <th>  F-statistic:       </th> <td>   7.301</td>\n",
       "</tr>\n",
       "<tr>\n",
       "  <th>Date:</th>             <td>Mon, 20 Feb 2023</td> <th>  Prob (F-statistic):</th> <td>8.35e-05</td>\n",
       "</tr>\n",
       "<tr>\n",
       "  <th>Time:</th>                 <td>15:24:00</td>     <th>  Log-Likelihood:    </th> <td> -580.34</td>\n",
       "</tr>\n",
       "<tr>\n",
       "  <th>No. Observations:</th>      <td>    61</td>      <th>  AIC:               </th> <td>   1171.</td>\n",
       "</tr>\n",
       "<tr>\n",
       "  <th>Df Residuals:</th>          <td>    56</td>      <th>  BIC:               </th> <td>   1181.</td>\n",
       "</tr>\n",
       "<tr>\n",
       "  <th>Df Model:</th>              <td>     4</td>      <th>                     </th>     <td> </td>   \n",
       "</tr>\n",
       "<tr>\n",
       "  <th>Covariance Type:</th>      <td>nonrobust</td>    <th>                     </th>     <td> </td>   \n",
       "</tr>\n",
       "</table>\n",
       "<table class=\"simpletable\">\n",
       "<tr>\n",
       "      <td></td>         <th>coef</th>     <th>std err</th>      <th>t</th>      <th>P>|t|</th>  <th>[0.025</th>    <th>0.975]</th>  \n",
       "</tr>\n",
       "<tr>\n",
       "  <th>Intercept</th> <td> 2.053e+04</td> <td> 2717.987</td> <td>    7.552</td> <td> 0.000</td> <td> 1.51e+04</td> <td>  2.6e+04</td>\n",
       "</tr>\n",
       "<tr>\n",
       "  <th>age</th>       <td>  133.3863</td> <td>   32.980</td> <td>    4.044</td> <td> 0.000</td> <td>   67.319</td> <td>  199.453</td>\n",
       "</tr>\n",
       "<tr>\n",
       "  <th>bmi</th>       <td>  -57.4515</td> <td>   86.862</td> <td>   -0.661</td> <td> 0.511</td> <td> -231.458</td> <td>  116.555</td>\n",
       "</tr>\n",
       "<tr>\n",
       "  <th>children</th>  <td> 1391.1590</td> <td>  405.555</td> <td>    3.430</td> <td> 0.001</td> <td>  578.735</td> <td> 2203.583</td>\n",
       "</tr>\n",
       "<tr>\n",
       "  <th>sex_male</th>  <td>-1144.5632</td> <td>  882.293</td> <td>   -1.297</td> <td> 0.200</td> <td>-2912.009</td> <td>  622.883</td>\n",
       "</tr>\n",
       "</table>\n",
       "<table class=\"simpletable\">\n",
       "<tr>\n",
       "  <th>Omnibus:</th>       <td> 0.716</td> <th>  Durbin-Watson:     </th> <td>   1.858</td>\n",
       "</tr>\n",
       "<tr>\n",
       "  <th>Prob(Omnibus):</th> <td> 0.699</td> <th>  Jarque-Bera (JB):  </th> <td>   0.279</td>\n",
       "</tr>\n",
       "<tr>\n",
       "  <th>Skew:</th>          <td> 0.139</td> <th>  Prob(JB):          </th> <td>   0.870</td>\n",
       "</tr>\n",
       "<tr>\n",
       "  <th>Kurtosis:</th>      <td> 3.182</td> <th>  Cond. No.          </th> <td>    349.</td>\n",
       "</tr>\n",
       "</table><br/><br/>Notes:<br/>[1] Standard Errors assume that the covariance matrix of the errors is correctly specified."
      ],
      "text/plain": [
       "<class 'statsmodels.iolib.summary.Summary'>\n",
       "\"\"\"\n",
       "                            OLS Regression Results                            \n",
       "==============================================================================\n",
       "Dep. Variable:                charges   R-squared:                       0.343\n",
       "Model:                            OLS   Adj. R-squared:                  0.296\n",
       "Method:                 Least Squares   F-statistic:                     7.301\n",
       "Date:                Mon, 20 Feb 2023   Prob (F-statistic):           8.35e-05\n",
       "Time:                        15:24:00   Log-Likelihood:                -580.34\n",
       "No. Observations:                  61   AIC:                             1171.\n",
       "Df Residuals:                      56   BIC:                             1181.\n",
       "Df Model:                           4                                         \n",
       "Covariance Type:            nonrobust                                         \n",
       "==============================================================================\n",
       "                 coef    std err          t      P>|t|      [0.025      0.975]\n",
       "------------------------------------------------------------------------------\n",
       "Intercept   2.053e+04   2717.987      7.552      0.000    1.51e+04     2.6e+04\n",
       "age          133.3863     32.980      4.044      0.000      67.319     199.453\n",
       "bmi          -57.4515     86.862     -0.661      0.511    -231.458     116.555\n",
       "children    1391.1590    405.555      3.430      0.001     578.735    2203.583\n",
       "sex_male   -1144.5632    882.293     -1.297      0.200   -2912.009     622.883\n",
       "==============================================================================\n",
       "Omnibus:                        0.716   Durbin-Watson:                   1.858\n",
       "Prob(Omnibus):                  0.699   Jarque-Bera (JB):                0.279\n",
       "Skew:                           0.139   Prob(JB):                        0.870\n",
       "Kurtosis:                       3.182   Cond. No.                         349.\n",
       "==============================================================================\n",
       "\n",
       "Notes:\n",
       "[1] Standard Errors assume that the covariance matrix of the errors is correctly specified.\n",
       "\"\"\""
      ]
     },
     "execution_count": 29,
     "metadata": {},
     "output_type": "execute_result"
    }
   ],
   "source": [
    "### Run a regression on the non smoking individuals with the highest charges recorded ###\n",
    "\n",
    "# Preparing the DataFrame by \"dropping\" the smokers (none of the individuals in this DataFrame are smoking)\n",
    "reg_highest_charges = highest_charges.drop(columns = [\"smoker_yes\"])\n",
    "\n",
    "# Running the regression on charges with X ε {age, bmi, children, sex_male}\n",
    "model = sm.OLS.from_formula(\"charges ~ age + bmi + children + sex_male\", data = reg_highest_charges).fit()\n",
    "model.summary()\n"
   ]
  },
  {
   "attachments": {},
   "cell_type": "markdown",
   "metadata": {},
   "source": [
    "Age remains an robust estimator for insurance charges with high t-statistic and low p-value, so does the number of children. What is unusual, however, and indeed seems contradictory, is that the BMI of a person does **not** have a significant impact on insurance charges anymore. The gender on the other hand has gained a slightly higher t-statistic but is still on the verge of insignificance regarding this data set.\n",
    "\n",
    "We have to keep in mind that this subset is only a sample size of 61 observation and thus can be seen as an outlier in the entire data set of 1338 observations.\n",
    "\n",
    "There must be other factors which lead to exceptionally high insurance charges, considering someone does not smoke."
   ]
  },
  {
   "attachments": {},
   "cell_type": "markdown",
   "metadata": {},
   "source": [
    "### Interactive 3D scatterplot for age, number of children and charges as the dependent variable"
   ]
  },
  {
   "cell_type": "code",
   "execution_count": 181,
   "metadata": {},
   "outputs": [
    {
     "data": {
      "application/vnd.plotly.v1+json": {
       "config": {
        "plotlyServerURL": "https://plot.ly"
       },
       "data": [
        {
         "hovertemplate": "age=%{x}<br>children=%{y}<br>charges=%{marker.color}<extra></extra>",
         "legendgroup": "",
         "marker": {
          "color": [
           21984.47061,
           28923.13692,
           20630.28351,
           30166.61817,
           21344.8467,
           30259.99556,
           27322.73386,
           27375.90478,
           25081.76784,
           24227.33724,
           35160.13457,
           24476.47851,
           20462.99766,
           25992.82104,
           20277.80751,
           20177.67113,
           24671.66334,
           24603.04837,
           27000.98473,
           20781.48892,
           30284.64294,
           23082.95533,
           28287.89766,
           21797.0004,
           23288.9284,
           20878.78443,
           24513.09126,
           27724.28875,
           25656.57526,
           24059.68019,
           27346.04207,
           31620.00106,
           33471.97189,
           24915.04626,
           26392.26029,
           22192.43711,
           26236.57997,
           29186.48236,
           27941.28758,
           28476.73499,
           26140.3603,
           25333.33284,
           32108.66282,
           28468.91901,
           26467.09737,
           25517.11363,
           28340.18885,
           21232.18226,
           23241.47453,
           36580.28216,
           26018.95052,
           21595.38229,
           22493.65964,
           23045.56616,
           20420.60465,
           20709.02034,
           27117.99378,
           36910.60803,
           23563.01618,
           30063.58055,
           22395.74424
          ],
          "coloraxis": "coloraxis",
          "size": [
           21984.47061,
           28923.13692,
           20630.28351,
           30166.61817,
           21344.8467,
           30259.99556,
           27322.73386,
           27375.90478,
           25081.76784,
           24227.33724,
           35160.13457,
           24476.47851,
           20462.99766,
           25992.82104,
           20277.80751,
           20177.67113,
           24671.66334,
           24603.04837,
           27000.98473,
           20781.48892,
           30284.64294,
           23082.95533,
           28287.89766,
           21797.0004,
           23288.9284,
           20878.78443,
           24513.09126,
           27724.28875,
           25656.57526,
           24059.68019,
           27346.04207,
           31620.00106,
           33471.97189,
           24915.04626,
           26392.26029,
           22192.43711,
           26236.57997,
           29186.48236,
           27941.28758,
           28476.73499,
           26140.3603,
           25333.33284,
           32108.66282,
           28468.91901,
           26467.09737,
           25517.11363,
           28340.18885,
           21232.18226,
           23241.47453,
           36580.28216,
           26018.95052,
           21595.38229,
           22493.65964,
           23045.56616,
           20420.60465,
           20709.02034,
           27117.99378,
           36910.60803,
           23563.01618,
           30063.58055,
           22395.74424
          ],
          "sizemode": "area",
          "sizeref": 218.40596467455623,
          "symbol": "circle"
         },
         "mode": "markers",
         "name": "",
         "scene": "scene",
         "showlegend": false,
         "type": "scatter3d",
         "x": [
          33,
          60,
          55,
          64,
          18,
          60,
          54,
          34,
          24,
          58,
          55,
          54,
          53,
          52,
          29,
          28,
          26,
          46,
          62,
          55,
          50,
          19,
          59,
          59,
          28,
          47,
          61,
          20,
          50,
          19,
          53,
          62,
          52,
          35,
          48,
          57,
          47,
          53,
          61,
          40,
          49,
          50,
          44,
          48,
          52,
          54,
          45,
          48,
          25,
          61,
          21,
          23,
          19,
          52,
          37,
          57,
          52,
          59,
          39,
          55,
          23
         ],
         "y": [
          0,
          0,
          0,
          1,
          0,
          0,
          3,
          2,
          0,
          0,
          1,
          0,
          3,
          3,
          1,
          2,
          4,
          0,
          1,
          0,
          2,
          0,
          1,
          0,
          1,
          0,
          0,
          1,
          0,
          2,
          0,
          1,
          2,
          2,
          1,
          1,
          1,
          2,
          3,
          1,
          1,
          2,
          2,
          1,
          2,
          1,
          1,
          0,
          2,
          4,
          2,
          0,
          2,
          0,
          0,
          0,
          0,
          2,
          2,
          3,
          2
         ],
         "z": [
          21984.47061,
          28923.13692,
          20630.28351,
          30166.61817,
          21344.8467,
          30259.99556,
          27322.73386,
          27375.90478,
          25081.76784,
          24227.33724,
          35160.13457,
          24476.47851,
          20462.99766,
          25992.82104,
          20277.80751,
          20177.67113,
          24671.66334,
          24603.04837,
          27000.98473,
          20781.48892,
          30284.64294,
          23082.95533,
          28287.89766,
          21797.0004,
          23288.9284,
          20878.78443,
          24513.09126,
          27724.28875,
          25656.57526,
          24059.68019,
          27346.04207,
          31620.00106,
          33471.97189,
          24915.04626,
          26392.26029,
          22192.43711,
          26236.57997,
          29186.48236,
          27941.28758,
          28476.73499,
          26140.3603,
          25333.33284,
          32108.66282,
          28468.91901,
          26467.09737,
          25517.11363,
          28340.18885,
          21232.18226,
          23241.47453,
          36580.28216,
          26018.95052,
          21595.38229,
          22493.65964,
          23045.56616,
          20420.60465,
          20709.02034,
          27117.99378,
          36910.60803,
          23563.01618,
          30063.58055,
          22395.74424
         ]
        }
       ],
       "layout": {
        "coloraxis": {
         "colorbar": {
          "title": {
           "text": "charges"
          }
         },
         "colorscale": [
          [
           0,
           "#0d0887"
          ],
          [
           0.1111111111111111,
           "#46039f"
          ],
          [
           0.2222222222222222,
           "#7201a8"
          ],
          [
           0.3333333333333333,
           "#9c179e"
          ],
          [
           0.4444444444444444,
           "#bd3786"
          ],
          [
           0.5555555555555556,
           "#d8576b"
          ],
          [
           0.6666666666666666,
           "#ed7953"
          ],
          [
           0.7777777777777778,
           "#fb9f3a"
          ],
          [
           0.8888888888888888,
           "#fdca26"
          ],
          [
           1,
           "#f0f921"
          ]
         ]
        },
        "legend": {
         "itemsizing": "constant",
         "tracegroupgap": 0
        },
        "margin": {
         "t": 60
        },
        "scene": {
         "domain": {
          "x": [
           0,
           1
          ],
          "y": [
           0,
           1
          ]
         },
         "xaxis": {
          "title": {
           "text": "age"
          }
         },
         "yaxis": {
          "title": {
           "text": "children"
          }
         },
         "zaxis": {
          "title": {
           "text": "charges"
          }
         }
        },
        "template": {
         "data": {
          "bar": [
           {
            "error_x": {
             "color": "#2a3f5f"
            },
            "error_y": {
             "color": "#2a3f5f"
            },
            "marker": {
             "line": {
              "color": "#E5ECF6",
              "width": 0.5
             },
             "pattern": {
              "fillmode": "overlay",
              "size": 10,
              "solidity": 0.2
             }
            },
            "type": "bar"
           }
          ],
          "barpolar": [
           {
            "marker": {
             "line": {
              "color": "#E5ECF6",
              "width": 0.5
             },
             "pattern": {
              "fillmode": "overlay",
              "size": 10,
              "solidity": 0.2
             }
            },
            "type": "barpolar"
           }
          ],
          "carpet": [
           {
            "aaxis": {
             "endlinecolor": "#2a3f5f",
             "gridcolor": "white",
             "linecolor": "white",
             "minorgridcolor": "white",
             "startlinecolor": "#2a3f5f"
            },
            "baxis": {
             "endlinecolor": "#2a3f5f",
             "gridcolor": "white",
             "linecolor": "white",
             "minorgridcolor": "white",
             "startlinecolor": "#2a3f5f"
            },
            "type": "carpet"
           }
          ],
          "choropleth": [
           {
            "colorbar": {
             "outlinewidth": 0,
             "ticks": ""
            },
            "type": "choropleth"
           }
          ],
          "contour": [
           {
            "colorbar": {
             "outlinewidth": 0,
             "ticks": ""
            },
            "colorscale": [
             [
              0,
              "#0d0887"
             ],
             [
              0.1111111111111111,
              "#46039f"
             ],
             [
              0.2222222222222222,
              "#7201a8"
             ],
             [
              0.3333333333333333,
              "#9c179e"
             ],
             [
              0.4444444444444444,
              "#bd3786"
             ],
             [
              0.5555555555555556,
              "#d8576b"
             ],
             [
              0.6666666666666666,
              "#ed7953"
             ],
             [
              0.7777777777777778,
              "#fb9f3a"
             ],
             [
              0.8888888888888888,
              "#fdca26"
             ],
             [
              1,
              "#f0f921"
             ]
            ],
            "type": "contour"
           }
          ],
          "contourcarpet": [
           {
            "colorbar": {
             "outlinewidth": 0,
             "ticks": ""
            },
            "type": "contourcarpet"
           }
          ],
          "heatmap": [
           {
            "colorbar": {
             "outlinewidth": 0,
             "ticks": ""
            },
            "colorscale": [
             [
              0,
              "#0d0887"
             ],
             [
              0.1111111111111111,
              "#46039f"
             ],
             [
              0.2222222222222222,
              "#7201a8"
             ],
             [
              0.3333333333333333,
              "#9c179e"
             ],
             [
              0.4444444444444444,
              "#bd3786"
             ],
             [
              0.5555555555555556,
              "#d8576b"
             ],
             [
              0.6666666666666666,
              "#ed7953"
             ],
             [
              0.7777777777777778,
              "#fb9f3a"
             ],
             [
              0.8888888888888888,
              "#fdca26"
             ],
             [
              1,
              "#f0f921"
             ]
            ],
            "type": "heatmap"
           }
          ],
          "heatmapgl": [
           {
            "colorbar": {
             "outlinewidth": 0,
             "ticks": ""
            },
            "colorscale": [
             [
              0,
              "#0d0887"
             ],
             [
              0.1111111111111111,
              "#46039f"
             ],
             [
              0.2222222222222222,
              "#7201a8"
             ],
             [
              0.3333333333333333,
              "#9c179e"
             ],
             [
              0.4444444444444444,
              "#bd3786"
             ],
             [
              0.5555555555555556,
              "#d8576b"
             ],
             [
              0.6666666666666666,
              "#ed7953"
             ],
             [
              0.7777777777777778,
              "#fb9f3a"
             ],
             [
              0.8888888888888888,
              "#fdca26"
             ],
             [
              1,
              "#f0f921"
             ]
            ],
            "type": "heatmapgl"
           }
          ],
          "histogram": [
           {
            "marker": {
             "pattern": {
              "fillmode": "overlay",
              "size": 10,
              "solidity": 0.2
             }
            },
            "type": "histogram"
           }
          ],
          "histogram2d": [
           {
            "colorbar": {
             "outlinewidth": 0,
             "ticks": ""
            },
            "colorscale": [
             [
              0,
              "#0d0887"
             ],
             [
              0.1111111111111111,
              "#46039f"
             ],
             [
              0.2222222222222222,
              "#7201a8"
             ],
             [
              0.3333333333333333,
              "#9c179e"
             ],
             [
              0.4444444444444444,
              "#bd3786"
             ],
             [
              0.5555555555555556,
              "#d8576b"
             ],
             [
              0.6666666666666666,
              "#ed7953"
             ],
             [
              0.7777777777777778,
              "#fb9f3a"
             ],
             [
              0.8888888888888888,
              "#fdca26"
             ],
             [
              1,
              "#f0f921"
             ]
            ],
            "type": "histogram2d"
           }
          ],
          "histogram2dcontour": [
           {
            "colorbar": {
             "outlinewidth": 0,
             "ticks": ""
            },
            "colorscale": [
             [
              0,
              "#0d0887"
             ],
             [
              0.1111111111111111,
              "#46039f"
             ],
             [
              0.2222222222222222,
              "#7201a8"
             ],
             [
              0.3333333333333333,
              "#9c179e"
             ],
             [
              0.4444444444444444,
              "#bd3786"
             ],
             [
              0.5555555555555556,
              "#d8576b"
             ],
             [
              0.6666666666666666,
              "#ed7953"
             ],
             [
              0.7777777777777778,
              "#fb9f3a"
             ],
             [
              0.8888888888888888,
              "#fdca26"
             ],
             [
              1,
              "#f0f921"
             ]
            ],
            "type": "histogram2dcontour"
           }
          ],
          "mesh3d": [
           {
            "colorbar": {
             "outlinewidth": 0,
             "ticks": ""
            },
            "type": "mesh3d"
           }
          ],
          "parcoords": [
           {
            "line": {
             "colorbar": {
              "outlinewidth": 0,
              "ticks": ""
             }
            },
            "type": "parcoords"
           }
          ],
          "pie": [
           {
            "automargin": true,
            "type": "pie"
           }
          ],
          "scatter": [
           {
            "fillpattern": {
             "fillmode": "overlay",
             "size": 10,
             "solidity": 0.2
            },
            "type": "scatter"
           }
          ],
          "scatter3d": [
           {
            "line": {
             "colorbar": {
              "outlinewidth": 0,
              "ticks": ""
             }
            },
            "marker": {
             "colorbar": {
              "outlinewidth": 0,
              "ticks": ""
             }
            },
            "type": "scatter3d"
           }
          ],
          "scattercarpet": [
           {
            "marker": {
             "colorbar": {
              "outlinewidth": 0,
              "ticks": ""
             }
            },
            "type": "scattercarpet"
           }
          ],
          "scattergeo": [
           {
            "marker": {
             "colorbar": {
              "outlinewidth": 0,
              "ticks": ""
             }
            },
            "type": "scattergeo"
           }
          ],
          "scattergl": [
           {
            "marker": {
             "colorbar": {
              "outlinewidth": 0,
              "ticks": ""
             }
            },
            "type": "scattergl"
           }
          ],
          "scattermapbox": [
           {
            "marker": {
             "colorbar": {
              "outlinewidth": 0,
              "ticks": ""
             }
            },
            "type": "scattermapbox"
           }
          ],
          "scatterpolar": [
           {
            "marker": {
             "colorbar": {
              "outlinewidth": 0,
              "ticks": ""
             }
            },
            "type": "scatterpolar"
           }
          ],
          "scatterpolargl": [
           {
            "marker": {
             "colorbar": {
              "outlinewidth": 0,
              "ticks": ""
             }
            },
            "type": "scatterpolargl"
           }
          ],
          "scatterternary": [
           {
            "marker": {
             "colorbar": {
              "outlinewidth": 0,
              "ticks": ""
             }
            },
            "type": "scatterternary"
           }
          ],
          "surface": [
           {
            "colorbar": {
             "outlinewidth": 0,
             "ticks": ""
            },
            "colorscale": [
             [
              0,
              "#0d0887"
             ],
             [
              0.1111111111111111,
              "#46039f"
             ],
             [
              0.2222222222222222,
              "#7201a8"
             ],
             [
              0.3333333333333333,
              "#9c179e"
             ],
             [
              0.4444444444444444,
              "#bd3786"
             ],
             [
              0.5555555555555556,
              "#d8576b"
             ],
             [
              0.6666666666666666,
              "#ed7953"
             ],
             [
              0.7777777777777778,
              "#fb9f3a"
             ],
             [
              0.8888888888888888,
              "#fdca26"
             ],
             [
              1,
              "#f0f921"
             ]
            ],
            "type": "surface"
           }
          ],
          "table": [
           {
            "cells": {
             "fill": {
              "color": "#EBF0F8"
             },
             "line": {
              "color": "white"
             }
            },
            "header": {
             "fill": {
              "color": "#C8D4E3"
             },
             "line": {
              "color": "white"
             }
            },
            "type": "table"
           }
          ]
         },
         "layout": {
          "annotationdefaults": {
           "arrowcolor": "#2a3f5f",
           "arrowhead": 0,
           "arrowwidth": 1
          },
          "autotypenumbers": "strict",
          "coloraxis": {
           "colorbar": {
            "outlinewidth": 0,
            "ticks": ""
           }
          },
          "colorscale": {
           "diverging": [
            [
             0,
             "#8e0152"
            ],
            [
             0.1,
             "#c51b7d"
            ],
            [
             0.2,
             "#de77ae"
            ],
            [
             0.3,
             "#f1b6da"
            ],
            [
             0.4,
             "#fde0ef"
            ],
            [
             0.5,
             "#f7f7f7"
            ],
            [
             0.6,
             "#e6f5d0"
            ],
            [
             0.7,
             "#b8e186"
            ],
            [
             0.8,
             "#7fbc41"
            ],
            [
             0.9,
             "#4d9221"
            ],
            [
             1,
             "#276419"
            ]
           ],
           "sequential": [
            [
             0,
             "#0d0887"
            ],
            [
             0.1111111111111111,
             "#46039f"
            ],
            [
             0.2222222222222222,
             "#7201a8"
            ],
            [
             0.3333333333333333,
             "#9c179e"
            ],
            [
             0.4444444444444444,
             "#bd3786"
            ],
            [
             0.5555555555555556,
             "#d8576b"
            ],
            [
             0.6666666666666666,
             "#ed7953"
            ],
            [
             0.7777777777777778,
             "#fb9f3a"
            ],
            [
             0.8888888888888888,
             "#fdca26"
            ],
            [
             1,
             "#f0f921"
            ]
           ],
           "sequentialminus": [
            [
             0,
             "#0d0887"
            ],
            [
             0.1111111111111111,
             "#46039f"
            ],
            [
             0.2222222222222222,
             "#7201a8"
            ],
            [
             0.3333333333333333,
             "#9c179e"
            ],
            [
             0.4444444444444444,
             "#bd3786"
            ],
            [
             0.5555555555555556,
             "#d8576b"
            ],
            [
             0.6666666666666666,
             "#ed7953"
            ],
            [
             0.7777777777777778,
             "#fb9f3a"
            ],
            [
             0.8888888888888888,
             "#fdca26"
            ],
            [
             1,
             "#f0f921"
            ]
           ]
          },
          "colorway": [
           "#636efa",
           "#EF553B",
           "#00cc96",
           "#ab63fa",
           "#FFA15A",
           "#19d3f3",
           "#FF6692",
           "#B6E880",
           "#FF97FF",
           "#FECB52"
          ],
          "font": {
           "color": "#2a3f5f"
          },
          "geo": {
           "bgcolor": "white",
           "lakecolor": "white",
           "landcolor": "#E5ECF6",
           "showlakes": true,
           "showland": true,
           "subunitcolor": "white"
          },
          "hoverlabel": {
           "align": "left"
          },
          "hovermode": "closest",
          "mapbox": {
           "style": "light"
          },
          "paper_bgcolor": "white",
          "plot_bgcolor": "#E5ECF6",
          "polar": {
           "angularaxis": {
            "gridcolor": "white",
            "linecolor": "white",
            "ticks": ""
           },
           "bgcolor": "#E5ECF6",
           "radialaxis": {
            "gridcolor": "white",
            "linecolor": "white",
            "ticks": ""
           }
          },
          "scene": {
           "xaxis": {
            "backgroundcolor": "#E5ECF6",
            "gridcolor": "white",
            "gridwidth": 2,
            "linecolor": "white",
            "showbackground": true,
            "ticks": "",
            "zerolinecolor": "white"
           },
           "yaxis": {
            "backgroundcolor": "#E5ECF6",
            "gridcolor": "white",
            "gridwidth": 2,
            "linecolor": "white",
            "showbackground": true,
            "ticks": "",
            "zerolinecolor": "white"
           },
           "zaxis": {
            "backgroundcolor": "#E5ECF6",
            "gridcolor": "white",
            "gridwidth": 2,
            "linecolor": "white",
            "showbackground": true,
            "ticks": "",
            "zerolinecolor": "white"
           }
          },
          "shapedefaults": {
           "line": {
            "color": "#2a3f5f"
           }
          },
          "ternary": {
           "aaxis": {
            "gridcolor": "white",
            "linecolor": "white",
            "ticks": ""
           },
           "baxis": {
            "gridcolor": "white",
            "linecolor": "white",
            "ticks": ""
           },
           "bgcolor": "#E5ECF6",
           "caxis": {
            "gridcolor": "white",
            "linecolor": "white",
            "ticks": ""
           }
          },
          "title": {
           "x": 0.05
          },
          "xaxis": {
           "automargin": true,
           "gridcolor": "white",
           "linecolor": "white",
           "ticks": "",
           "title": {
            "standoff": 15
           },
           "zerolinecolor": "white",
           "zerolinewidth": 2
          },
          "yaxis": {
           "automargin": true,
           "gridcolor": "white",
           "linecolor": "white",
           "ticks": "",
           "title": {
            "standoff": 15
           },
           "zerolinecolor": "white",
           "zerolinewidth": 2
          }
         }
        }
       }
      }
     },
     "metadata": {},
     "output_type": "display_data"
    }
   ],
   "source": [
    "### Make an interactive 3D scatterplot ###\n",
    "\n",
    "fig = px.scatter_3d(highest_charges, x = \"age\", y = \"children\", z = \"charges\",\n",
    "                    size = \"charges\",\n",
    "                    size_max = 13,\n",
    "                    color = \"charges\"\n",
    "                    )\n",
    "fig.show()"
   ]
  },
  {
   "attachments": {},
   "cell_type": "markdown",
   "metadata": {},
   "source": [
    "## Conclusion\n",
    "\n",
    "When we inspect the entire data set, the models suggest that the best estimators for medical insurance charges are the age, BMI, whether the person is smoking or not and the number of children an individual has. However, the higher the insurance charges become, the harder it is to draw conclusions on the population from this sample. As we have seen there is more \"noise\" (variance) in the observations with higher insurance charges especially when we account for individuals with high insurance charges who do not smoke. This leads to the conclusion that there must be ommited variables not included in this data set that might explain the amount of insurance charges better.\n",
    "\n",
    "### Limitations of the data set\n",
    "\n",
    "+ The data set itself is quite small, a sample size of only 1338 is not representative enough in order to make draw causal conclussions to the population.\n",
    "\n",
    "+ The data set seems to be almost \"hand picked\". Alot of the distributions illustrated in the analysis would suggest that way. The different regions for example all rougly had the same amount of observations. Relatively speaking there are also alot of young people included in the sample with highlights the lower insurance charges. This might explain why the distribution of insurance charges is skewed heavily to the right. This could induce  bias since the sample might not have been randomly selected.\n",
    "\n",
    "+ Above all, this data sets source is unknown. Therefore drawing conclusion to the population based on this sample might be unwise. Still, though, it is a fun insight to work with."
   ]
  }
 ],
 "metadata": {
  "kernelspec": {
   "display_name": "base",
   "language": "python",
   "name": "python3"
  },
  "language_info": {
   "codemirror_mode": {
    "name": "ipython",
    "version": 3
   },
   "file_extension": ".py",
   "mimetype": "text/x-python",
   "name": "python",
   "nbconvert_exporter": "python",
   "pygments_lexer": "ipython3",
   "version": "3.9.13"
  },
  "vscode": {
   "interpreter": {
    "hash": "4f523f7c76dd18e7ed336217f32f6f704c23c323644912475b9d3570cf04b060"
   }
  }
 },
 "nbformat": 4,
 "nbformat_minor": 4
}
